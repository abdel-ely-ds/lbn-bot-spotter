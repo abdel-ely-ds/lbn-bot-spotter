{
 "cells": [
  {
   "cell_type": "code",
   "execution_count": 1,
   "id": "f23b6e1d-9162-42fd-9b93-c330f47f427f",
   "metadata": {},
   "outputs": [],
   "source": [
    "import os\n",
    "\n",
    "from sklearn.metrics import f1_score, recall_score, precision_score\n",
    "from sklearn.model_selection import train_test_split\n",
    "import pandas as pd\n",
    "\n",
    "from bot_spotter import Spotter\n",
    "from bot_spotter.constants import DATA_FILE, DATA_FOLDER, LABEL\n",
    "\n",
    "raw_data = pd.read_csv(os.path.join(\"../\", DATA_FOLDER, DATA_FILE))\n",
    "train, val = train_test_split(raw_data, random_state=0, test_size=0.2)"
   ]
  },
  {
   "cell_type": "code",
   "execution_count": 2,
   "id": "ce66a758-5b0a-43aa-83ed-1a91d336e9d6",
   "metadata": {},
   "outputs": [
    {
     "data": {
      "text/html": [
       "<div>\n",
       "<style scoped>\n",
       "    .dataframe tbody tr th:only-of-type {\n",
       "        vertical-align: middle;\n",
       "    }\n",
       "\n",
       "    .dataframe tbody tr th {\n",
       "        vertical-align: top;\n",
       "    }\n",
       "\n",
       "    .dataframe thead th {\n",
       "        text-align: right;\n",
       "    }\n",
       "</style>\n",
       "<table border=\"1\" class=\"dataframe\">\n",
       "  <thead>\n",
       "    <tr style=\"text-align: right;\">\n",
       "      <th></th>\n",
       "      <th>UserId</th>\n",
       "      <th>Event</th>\n",
       "      <th>Category</th>\n",
       "      <th>Fake</th>\n",
       "    </tr>\n",
       "  </thead>\n",
       "  <tbody>\n",
       "    <tr>\n",
       "      <th>0</th>\n",
       "      <td>53F7429AB5</td>\n",
       "      <td>phone_call</td>\n",
       "      <td>Jobs</td>\n",
       "      <td>0</td>\n",
       "    </tr>\n",
       "    <tr>\n",
       "      <th>1</th>\n",
       "      <td>C08F2A0901</td>\n",
       "      <td>click_ad</td>\n",
       "      <td>Phone</td>\n",
       "      <td>0</td>\n",
       "    </tr>\n",
       "    <tr>\n",
       "      <th>2</th>\n",
       "      <td>B124F43F6D</td>\n",
       "      <td>send_sms</td>\n",
       "      <td>Holidays</td>\n",
       "      <td>0</td>\n",
       "    </tr>\n",
       "    <tr>\n",
       "      <th>3</th>\n",
       "      <td>6DB134D2D1</td>\n",
       "      <td>send_email</td>\n",
       "      <td>Motor</td>\n",
       "      <td>0</td>\n",
       "    </tr>\n",
       "    <tr>\n",
       "      <th>4</th>\n",
       "      <td>8BD16971C5</td>\n",
       "      <td>click_carrousel</td>\n",
       "      <td>Leisure</td>\n",
       "      <td>0</td>\n",
       "    </tr>\n",
       "  </tbody>\n",
       "</table>\n",
       "</div>"
      ],
      "text/plain": [
       "       UserId            Event  Category  Fake\n",
       "0  53F7429AB5       phone_call      Jobs     0\n",
       "1  C08F2A0901         click_ad     Phone     0\n",
       "2  B124F43F6D         send_sms  Holidays     0\n",
       "3  6DB134D2D1       send_email     Motor     0\n",
       "4  8BD16971C5  click_carrousel   Leisure     0"
      ]
     },
     "execution_count": 2,
     "metadata": {},
     "output_type": "execute_result"
    }
   ],
   "source": [
    "raw_data.head()"
   ]
  },
  {
   "cell_type": "code",
   "execution_count": 3,
   "id": "db724714-370f-45b9-8829-b32b66e616da",
   "metadata": {},
   "outputs": [
    {
     "data": {
      "text/plain": [
       "0.25"
      ]
     },
     "execution_count": 3,
     "metadata": {},
     "output_type": "execute_result"
    }
   ],
   "source": [
    "len(val) / len(train)"
   ]
  },
  {
   "cell_type": "code",
   "execution_count": 4,
   "id": "819e8df4-2ba2-4aee-bcbb-bbfcd40872f2",
   "metadata": {},
   "outputs": [
    {
     "data": {
      "text/plain": [
       "0    0.900601\n",
       "1    0.099399\n",
       "Name: Fake, dtype: float64"
      ]
     },
     "execution_count": 4,
     "metadata": {},
     "output_type": "execute_result"
    }
   ],
   "source": [
    "val[LABEL].value_counts(normalize=True)"
   ]
  },
  {
   "cell_type": "code",
   "execution_count": 5,
   "id": "b994cc71-5817-48cc-8081-52d8aa70f5f9",
   "metadata": {},
   "outputs": [
    {
     "data": {
      "text/plain": [
       "0    0.898354\n",
       "1    0.101646\n",
       "Name: Fake, dtype: float64"
      ]
     },
     "execution_count": 5,
     "metadata": {},
     "output_type": "execute_result"
    }
   ],
   "source": [
    "train[LABEL].value_counts(normalize=True)"
   ]
  },
  {
   "cell_type": "code",
   "execution_count": 6,
   "id": "38a33d82-fafb-402a-a1b0-45219ff0c381",
   "metadata": {},
   "outputs": [],
   "source": [
    "spotter = Spotter()\n",
    "spotter.run(train)"
   ]
  },
  {
   "cell_type": "code",
   "execution_count": 7,
   "id": "075aa67f-6fa9-4f27-9555-a89a0460c949",
   "metadata": {},
   "outputs": [
    {
     "name": "stdout",
     "output_type": "stream",
     "text": [
      "f1_score: 0.0\n",
      "recall_score: 0.0\n",
      "precision_score: 0.0\n"
     ]
    },
    {
     "name": "stderr",
     "output_type": "stream",
     "text": [
      "/home/abdelelyds/.local/lib/python3.8/site-packages/sklearn/metrics/_classification.py:1248: UndefinedMetricWarning: Precision is ill-defined and being set to 0.0 due to no predicted samples. Use `zero_division` parameter to control this behavior.\n",
      "  _warn_prf(average, modifier, msg_start, len(result))\n"
     ]
    }
   ],
   "source": [
    "preds = spotter.predict(val)\n",
    "print(f\"f1_score: {f1_score(val[LABEL], preds)}\")\n",
    "print(f\"recall_score: {recall_score(val[LABEL], preds)}\")\n",
    "print(f\"precision_score: {precision_score(val[LABEL], preds)}\")"
   ]
  },
  {
   "cell_type": "code",
   "execution_count": 10,
   "id": "f680aee7-16cf-4c4b-b418-0e45cada3cf9",
   "metadata": {},
   "outputs": [
    {
     "data": {
      "text/html": [
       "<div>\n",
       "<style scoped>\n",
       "    .dataframe tbody tr th:only-of-type {\n",
       "        vertical-align: middle;\n",
       "    }\n",
       "\n",
       "    .dataframe tbody tr th {\n",
       "        vertical-align: top;\n",
       "    }\n",
       "\n",
       "    .dataframe thead th {\n",
       "        text-align: right;\n",
       "    }\n",
       "</style>\n",
       "<table border=\"1\" class=\"dataframe\">\n",
       "  <thead>\n",
       "    <tr style=\"text-align: right;\">\n",
       "      <th></th>\n",
       "      <th>Prediction</th>\n",
       "    </tr>\n",
       "    <tr>\n",
       "      <th>UserId</th>\n",
       "      <th></th>\n",
       "    </tr>\n",
       "  </thead>\n",
       "  <tbody>\n",
       "    <tr>\n",
       "      <th>D1DAC510B3</th>\n",
       "      <td>0</td>\n",
       "    </tr>\n",
       "    <tr>\n",
       "      <th>0278732F9A</th>\n",
       "      <td>0</td>\n",
       "    </tr>\n",
       "    <tr>\n",
       "      <th>64F532A744</th>\n",
       "      <td>0</td>\n",
       "    </tr>\n",
       "    <tr>\n",
       "      <th>B622B31E11</th>\n",
       "      <td>0</td>\n",
       "    </tr>\n",
       "    <tr>\n",
       "      <th>A368CA6535</th>\n",
       "      <td>0</td>\n",
       "    </tr>\n",
       "    <tr>\n",
       "      <th>...</th>\n",
       "      <td>...</td>\n",
       "    </tr>\n",
       "    <tr>\n",
       "      <th>84EC1C817D</th>\n",
       "      <td>0</td>\n",
       "    </tr>\n",
       "    <tr>\n",
       "      <th>98BFC83531</th>\n",
       "      <td>0</td>\n",
       "    </tr>\n",
       "    <tr>\n",
       "      <th>A9D4882170</th>\n",
       "      <td>0</td>\n",
       "    </tr>\n",
       "    <tr>\n",
       "      <th>8066C2D6E1</th>\n",
       "      <td>0</td>\n",
       "    </tr>\n",
       "    <tr>\n",
       "      <th>C7C229F069</th>\n",
       "      <td>0</td>\n",
       "    </tr>\n",
       "  </tbody>\n",
       "</table>\n",
       "<p>20473 rows × 1 columns</p>\n",
       "</div>"
      ],
      "text/plain": [
       "            Prediction\n",
       "UserId                \n",
       "D1DAC510B3           0\n",
       "0278732F9A           0\n",
       "64F532A744           0\n",
       "B622B31E11           0\n",
       "A368CA6535           0\n",
       "...                ...\n",
       "84EC1C817D           0\n",
       "98BFC83531           0\n",
       "A9D4882170           0\n",
       "8066C2D6E1           0\n",
       "C7C229F069           0\n",
       "\n",
       "[20473 rows x 1 columns]"
      ]
     },
     "execution_count": 10,
     "metadata": {},
     "output_type": "execute_result"
    }
   ],
   "source": [
    "preds"
   ]
  },
  {
   "cell_type": "code",
   "execution_count": null,
   "id": "e4b28bb2-1724-485a-906e-3dd06180c229",
   "metadata": {},
   "outputs": [],
   "source": []
  }
 ],
 "metadata": {
  "kernelspec": {
   "display_name": "Python 3 (ipykernel)",
   "language": "python",
   "name": "python3"
  },
  "language_info": {
   "codemirror_mode": {
    "name": "ipython",
    "version": 3
   },
   "file_extension": ".py",
   "mimetype": "text/x-python",
   "name": "python",
   "nbconvert_exporter": "python",
   "pygments_lexer": "ipython3",
   "version": "3.8.10"
  }
 },
 "nbformat": 4,
 "nbformat_minor": 5
}
